{
 "cells": [
  {
   "cell_type": "code",
   "execution_count": 1,
   "metadata": {},
   "outputs": [],
   "source": [
    "%load_ext autoreload\n",
    "%autoreload 2"
   ]
  },
  {
   "cell_type": "code",
   "execution_count": 4,
   "metadata": {},
   "outputs": [
    {
     "name": "stdout",
     "output_type": "stream",
     "text": [
      "[{'end_time': None, 'search_index': 1006, 'epochs': 10, 'dataset_params': {'ts_window': 6, 'ts_overlap': 'start', 'text_window': 3, 'text_selection_method': ['TFIDF', 5], 'data_source': {'name': 'EDT', 'text_path': './data/EDT/evaluate_news.json', 'ts_path': './data/stock_emotions/price/', 'ts_date_col': 'Date', 'text_date_col': 'date', 'text_col': 'text', 'train_dates': '01/01/2020 - 03/09/2020', 'test_dates': '04/09/2020 - 31/12/2020'}, 'negatives_creation': ['sentence_transformer_dissimilarity', 'mean'], 'random_state': 42}, 'model_params': {'ts_encoder': {'name': 'TimeSeriesTransformerModel', 'ts_window': 6, 'context_length': 1, 'prediction_length': 0, 'lags_sequence': [1, 2, 3, 4, 5], 'num_features': 3}, 'text_encoder': {'name': 'bert-base-uncased'}, 'text_encoder_pretrained': True, 'text_aggregation_method': 'mean', 'projection_dim': 500, 'learning_rate': 1e-05, 'optimizer': 'adam', 'criterion': 'CosineEmbeddingLoss', 'num_epochs': 10, 'batch_size': 6, 'num_workers': 4}, 'df_len': 360, 'pair_count': [[1, 180], [-1, 180]], 'train_metrics': {'loss': [0.07277967783577172, 0.06599252943673896, 0.04898879401411654, 0.037944969862777116, 0.026451861907521055, 0.023409249851505998, 0.02100335611062797, 0.01960665414355592, 0.01876096292010819, 0.018562397175183935], 'accuracy': [0.6722222222222223, 0.725, 0.7583333333333333, 0.7888888888888889, 0.8305555555555556, 0.8305555555555556, 0.8555555555555555, 0.8611111111111112, 0.8666666666666667, 0.8805555555555555], 'f1': [0.6423760775862069, 0.7226696547377268, 0.7544973544973544, 0.7850678733031674, 0.8294488152284499, 0.8292897177372336, 0.8550140958517921, 0.8608362196932211, 0.8664647151556366, 0.8804808560906123], 'conf_matrix': [[[69, 111], [7, 173]], [[114, 66], [33, 147]], [[114, 66], [21, 159]], [[118, 62], [14, 166]], [[135, 45], [16, 164]], [[134, 46], [15, 165]], [[143, 37], [15, 165]], [[147, 33], [17, 163]], [[149, 31], [17, 163]], [[154, 26], [17, 163]]]}, 'val_metrics': {'loss': [0.08928144273191395, 0.07351526558989345, 0.056616506659158385, 0.035156826424126576, 0.026406229206241003, 0.01932276872051234, 0.01723641942780797, 0.016586582443796762, 0.018113981812528455, 0.01442684193999313], 'accuracy': [0.5, 0.8960396039603961, 0.8960396039603961, 0.9356435643564357, 0.9356435643564357, 0.9356435643564357, 0.9356435643564357, 0.9356435643564357, 0.9356435643564357, 0.9356435643564357], 'f1': [0.3333333333333333, 0.894903748482521, 0.894903748482521, 0.9353759074689306, 0.9353759074689306, 0.9353759074689306, 0.9353759074689306, 0.9353759074689306, 0.9353759074689306, 0.9353759074689306], 'conf_matrix': [[[101, 0], [101, 0]], [[101, 0], [21, 80]], [[101, 0], [21, 80]], [[101, 0], [13, 88]], [[101, 0], [13, 88]], [[101, 0], [13, 88]], [[101, 0], [13, 88]], [[101, 0], [13, 88]], [[101, 0], [13, 88]], [[101, 0], [13, 88]]]}, 'test_metrics': {'loss': 0.02505356287140222, 'accuracy': 0.9428571428571428, 'f1': 0.94281045751634, 'conf_matrix': [[102, 3], [9, 96]]}, 'timing': {'start_loop': '2024-10-06T10:06:23.644092', 'end_loop': '2024-10-06T10:14:30.377847', 'end_test': '2024-10-06T10:14:46.743057', 'loop_time': -486.733755, 'test_time': -16.36521}}, {'end_time': None, 'search_index': 1007, 'epochs': 10, 'dataset_params': {'ts_window': 6, 'ts_overlap': 'start', 'text_window': 3, 'text_selection_method': ['TFIDF', 5], 'data_source': {'name': 'EDT', 'text_path': './data/EDT/evaluate_news.json', 'ts_path': './data/stock_emotions/price/', 'ts_date_col': 'Date', 'text_date_col': 'date', 'text_col': 'text', 'train_dates': '01/01/2020 - 03/09/2020', 'test_dates': '04/09/2020 - 31/12/2020'}, 'negatives_creation': ['sentence_transformer_dissimilarity', 'mean'], 'random_state': 43}, 'model_params': {'ts_encoder': {'name': 'TimeSeriesTransformerModel', 'ts_window': 6, 'context_length': 1, 'prediction_length': 0, 'lags_sequence': [1, 2, 3, 4, 5], 'num_features': 3}, 'text_encoder': {'name': 'bert-base-uncased'}, 'text_encoder_pretrained': True, 'text_aggregation_method': 'mean', 'projection_dim': 500, 'learning_rate': 1e-05, 'optimizer': 'adam', 'criterion': 'CosineEmbeddingLoss', 'num_epochs': 10, 'batch_size': 6, 'num_workers': 4}, 'df_len': 360, 'pair_count': [[1, 180], [-1, 180]], 'train_metrics': {'loss': [0.06486027626831653, 0.059289386552215245, 0.03710929616483756, 0.02742651706090934, 0.021147401727082776, 0.01978849094335197, 0.01915389314138641, 0.018117017164089096, 0.017843715825195734, 0.017127626148542022], 'accuracy': [0.7222222222222222, 0.7638888888888888, 0.8222222222222222, 0.85, 0.8666666666666667, 0.875, 0.8666666666666667, 0.8722222222222222, 0.8833333333333333, 0.8833333333333333], 'f1': [0.6989966555183946, 0.762125016519096, 0.821290062362322, 0.8495356037151702, 0.8664647151556366, 0.8748831856903436, 0.8665637065637065, 0.8720800889877641, 0.8832756916996048, 0.8832756916996048], 'conf_matrix': [[[80, 100], [0, 180]], [[122, 58], [27, 153]], [[135, 45], [19, 161]], [[143, 37], [17, 163]], [[149, 31], [17, 163]], [[152, 28], [17, 163]], [[151, 29], [19, 161]], [[151, 29], [17, 163]], [[155, 25], [17, 163]], [[155, 25], [17, 163]]]}, 'val_metrics': {'loss': [0.07793491075534632, 0.05959992125482842, 0.03776731342077255, 0.020443052422292163, 0.018476531877744905, 0.016912299913750723, 0.015961365511474927, 0.0164509228209384, 0.014677655809365286, 0.014245555279684245], 'accuracy': [0.8613861386138614, 0.8960396039603961, 0.9356435643564357, 0.9356435643564357, 0.9356435643564357, 0.9356435643564357, 0.9356435643564357, 0.9356435643564357, 0.9356435643564357, 0.9356435643564357], 'f1': [0.8586706646676662, 0.894903748482521, 0.9353759074689306, 0.9353759074689306, 0.9353759074689306, 0.9353759074689306, 0.9353759074689306, 0.9353759074689306, 0.9353759074689306, 0.9353759074689306], 'conf_matrix': [[[101, 0], [28, 73]], [[101, 0], [21, 80]], [[101, 0], [13, 88]], [[101, 0], [13, 88]], [[101, 0], [13, 88]], [[101, 0], [13, 88]], [[101, 0], [13, 88]], [[101, 0], [13, 88]], [[101, 0], [13, 88]], [[101, 0], [13, 88]]]}, 'test_metrics': {'loss': 0.045314833983069375, 'accuracy': 0.5, 'f1': 0.3333333333333333, 'conf_matrix': [[0, 105], [0, 105]]}, 'timing': {'start_loop': '2024-10-06T10:15:23.755733', 'end_loop': '2024-10-06T10:23:30.008008', 'end_test': '2024-10-06T10:23:46.241904', 'loop_time': -486.252275, 'test_time': -16.233896}}, {'end_time': None, 'search_index': 1008, 'epochs': 10, 'dataset_params': {'ts_window': 6, 'ts_overlap': 'start', 'text_window': 3, 'text_selection_method': ['TFIDF', 5], 'data_source': {'name': 'EDT', 'text_path': './data/EDT/evaluate_news.json', 'ts_path': './data/stock_emotions/price/', 'ts_date_col': 'Date', 'text_date_col': 'date', 'text_col': 'text', 'train_dates': '01/01/2020 - 03/09/2020', 'test_dates': '04/09/2020 - 31/12/2020'}, 'negatives_creation': ['sentence_transformer_dissimilarity', 'mean'], 'random_state': 44}, 'model_params': {'ts_encoder': {'name': 'TimeSeriesTransformerModel', 'ts_window': 6, 'context_length': 1, 'prediction_length': 0, 'lags_sequence': [1, 2, 3, 4, 5], 'num_features': 3}, 'text_encoder': {'name': 'bert-base-uncased'}, 'text_encoder_pretrained': True, 'text_aggregation_method': 'mean', 'projection_dim': 500, 'learning_rate': 1e-05, 'optimizer': 'adam', 'criterion': 'CosineEmbeddingLoss', 'num_epochs': 10, 'batch_size': 6, 'num_workers': 4}, 'df_len': 360, 'pair_count': [[1, 180], [-1, 180]], 'train_metrics': {'loss': [0.06727154524527981, 0.06076361656499406, 0.03669348384460641, 0.03526956950728264, 0.026662733238643137, 0.02243454472449634, 0.020942991887891872, 0.019553639200360826, 0.018770002397812076, 0.01837081923537577], 'accuracy': [0.7138888888888889, 0.7222222222222222, 0.8055555555555556, 0.6666666666666666, 0.8388888888888889, 0.8555555555555555, 0.8583333333333333, 0.8638888888888889, 0.8805555555555555, 0.8666666666666667], 'f1': [0.6883797934297552, 0.7171945701357466, 0.803125, 0.6433760401532163, 0.8374388838715706, 0.85526966848095, 0.8579376194492375, 0.8637111665675147, 0.8804439329929951, 0.8664027709054923], 'conf_matrix': [[[77, 103], [0, 180]], [[106, 74], [26, 154]], [[125, 55], [15, 165]], [[74, 106], [14, 166]], [[134, 46], [12, 168]], [[146, 34], [18, 162]], [[145, 35], [16, 164]], [[149, 31], [18, 162]], [[153, 27], [16, 164]], [[148, 32], [16, 164]]]}, 'val_metrics': {'loss': [0.0744929573323467, 0.04991239722412411, 0.036912946786620826, 0.02977577309207161, 0.022083010137228683, 0.018844463355322874, 0.0173402839008313, 0.016831036979830502, 0.015975521716040254, 0.014821725194388539], 'accuracy': [0.8960396039603961, 0.9356435643564357, 0.9356435643564357, 0.9356435643564357, 0.9356435643564357, 0.9356435643564357, 0.9356435643564357, 0.9356435643564357, 0.9356435643564357, 0.9356435643564357], 'f1': [0.894903748482521, 0.9353759074689306, 0.9353759074689306, 0.9353759074689306, 0.9353759074689306, 0.9353759074689306, 0.9353759074689306, 0.9353759074689306, 0.9353759074689306, 0.9353759074689306], 'conf_matrix': [[[101, 0], [21, 80]], [[101, 0], [13, 88]], [[101, 0], [13, 88]], [[101, 0], [13, 88]], [[101, 0], [13, 88]], [[101, 0], [13, 88]], [[101, 0], [13, 88]], [[101, 0], [13, 88]], [[101, 0], [13, 88]], [[101, 0], [13, 88]]]}, 'test_metrics': {'loss': 0.08333333783916065, 'accuracy': 0.5, 'f1': 0.3333333333333333, 'conf_matrix': [[0, 105], [0, 105]]}, 'timing': {'start_loop': '2024-10-06T10:24:22.987741', 'end_loop': '2024-10-06T10:32:29.740308', 'end_test': '2024-10-06T10:32:45.766422', 'loop_time': -486.752567, 'test_time': -16.026114}}, {'end_time': None, 'search_index': 1024, 'epochs': 10, 'dataset_params': {'ts_window': 6, 'ts_overlap': 'start', 'text_window': 3, 'text_selection_method': ['TFIDF', 5], 'data_source': {'name': 'stock_emotion', 'text_path': './data/stock_emotions/tweet/processed_stockemo.csv', 'ts_path': './data/stock_emotions/price/', 'ts_date_col': 'Date', 'text_date_col': 'date', 'text_col': 'text', 'train_dates': '01/01/2020 - 03/09/2020', 'test_dates': '04/09/2020 - 31/12/2020'}, 'negatives_creation': ['sentence_transformer_dissimilarity', 'mean'], 'random_state': 42}, 'model_params': {'ts_encoder': {'name': 'TimeSeriesTransformerModel', 'ts_window': 6, 'context_length': 1, 'prediction_length': 0, 'lags_sequence': [1, 2, 3, 4, 5], 'num_features': 3}, 'text_encoder': {'name': 'bert-base-uncased'}, 'text_encoder_pretrained': True, 'text_aggregation_method': 'mean', 'projection_dim': 500, 'learning_rate': 1e-05, 'optimizer': 'adam', 'criterion': 'CosineEmbeddingLoss', 'num_epochs': 10, 'batch_size': 6, 'num_workers': 4}, 'df_len': 720, 'pair_count': [[1, 360], [-1, 360]], 'train_metrics': {'loss': [0.04999030413908056, 0.06708980619522562, 0.07070092710055179, 0.03588769498358791, 0.049033246501090214, 0.041337903782389024, 0.051138961329383566, 0.04895445615079047, 0.1083314498886466, 0.07930423855367634], 'accuracy': [0.8083333333333333, 0.625, 0.7875, 0.8069444444444445, 0.7486111111111111, 0.7777777777777778, 0.7375, 0.6986111111111111, 0.39444444444444443, 0.5666666666666667], 'f1': [0.8026676411474511, 0.6176239181746657, 0.7864284343319781, 0.8009447566008652, 0.7413048699874344, 0.7709850822227171, 0.7303803562831005, 0.6752786547258554, 0.30836953935366745, 0.47415237970392976], 'conf_matrix': [[[230, 130], [8, 352]], [[175, 185], [85, 275]], [[258, 102], [51, 309]], [[228, 132], [7, 353]], [[209, 151], [30, 330]], [[218, 142], [18, 342]], [[207, 153], [36, 324]], [[155, 205], [12, 348]], [[15, 345], [91, 269]], [[53, 307], [5, 355]]]}, 'val_metrics': {'loss': [0.0942333718905082, 0.10601761631476574, 0.12188268089905763, 0.11786919946853931, 0.10790752294736031, 0.10868062537450057, 0.09578377199478638, 0.10805291816210136, 0.07032023570858516, 0.06116780717498981], 'accuracy': [0.5, 0.5, 0.5, 0.5, 0.5, 0.5, 0.5, 0.5, 0.6217948717948718, 0.6185897435897436], 'f1': [0.3333333333333333, 0.3333333333333333, 0.3333333333333333, 0.3333333333333333, 0.3333333333333333, 0.3333333333333333, 0.3333333333333333, 0.3333333333333333, 0.5681103655389236, 0.5633181609682086], 'conf_matrix': [[[156, 0], [156, 0]], [[156, 0], [156, 0]], [[156, 0], [156, 0]], [[156, 0], [156, 0]], [[156, 0], [156, 0]], [[156, 0], [156, 0]], [[156, 0], [156, 0]], [[156, 0], [156, 0]], [[42, 114], [4, 152]], [[41, 115], [4, 152]]]}, 'test_metrics': {'loss': 0.03741590088954375, 'accuracy': 0.8741935483870967, 'f1': 0.8727515761332898, 'conf_matrix': [[119, 36], [3, 152]]}, 'timing': {'start_loop': '2024-10-06T13:11:11.742553', 'end_loop': '2024-10-06T13:23:36.547382', 'end_test': '2024-10-06T13:23:55.770848', 'loop_time': -744.804829, 'test_time': -19.223466}}, {'end_time': None, 'search_index': 1025, 'epochs': 10, 'dataset_params': {'ts_window': 6, 'ts_overlap': 'start', 'text_window': 3, 'text_selection_method': ['TFIDF', 5], 'data_source': {'name': 'stock_emotion', 'text_path': './data/stock_emotions/tweet/processed_stockemo.csv', 'ts_path': './data/stock_emotions/price/', 'ts_date_col': 'Date', 'text_date_col': 'date', 'text_col': 'text', 'train_dates': '01/01/2020 - 03/09/2020', 'test_dates': '04/09/2020 - 31/12/2020'}, 'negatives_creation': ['sentence_transformer_dissimilarity', 'mean'], 'random_state': 43}, 'model_params': {'ts_encoder': {'name': 'TimeSeriesTransformerModel', 'ts_window': 6, 'context_length': 1, 'prediction_length': 0, 'lags_sequence': [1, 2, 3, 4, 5], 'num_features': 3}, 'text_encoder': {'name': 'bert-base-uncased'}, 'text_encoder_pretrained': True, 'text_aggregation_method': 'mean', 'projection_dim': 500, 'learning_rate': 1e-05, 'optimizer': 'adam', 'criterion': 'CosineEmbeddingLoss', 'num_epochs': 10, 'batch_size': 6, 'num_workers': 4}, 'df_len': 720, 'pair_count': [[1, 360], [-1, 360]], 'train_metrics': {'loss': [0.09020204525440931, 0.08862087345785565, 0.08779464848339558, 0.08720396018276612, 0.08679359230316347, 0.08645785355733501, 0.08620172343734238, 0.0859812926604516, 0.08578417921024892, 0.08561276423020495], 'accuracy': [0.5, 0.5, 0.5, 0.5, 0.5, 0.5, 0.5, 0.5, 0.5, 0.5], 'f1': [0.3333333333333333, 0.3333333333333333, 0.3333333333333333, 0.3333333333333333, 0.3333333333333333, 0.3333333333333333, 0.3333333333333333, 0.3333333333333333, 0.3333333333333333, 0.3333333333333333], 'conf_matrix': [[[0, 360], [0, 360]], [[0, 360], [0, 360]], [[0, 360], [0, 360]], [[0, 360], [0, 360]], [[0, 360], [0, 360]], [[0, 360], [0, 360]], [[0, 360], [0, 360]], [[0, 360], [0, 360]], [[0, 360], [0, 360]], [[0, 360], [0, 360]]]}, 'val_metrics': {'loss': [0.0833333358168602, 0.08333333667654258, 0.08333333619894126, 0.08333333591238046, 0.08333333586462033, 0.08333333510045822, 0.08333333615118112, 0.08333333553029941, 0.08333333490941769, 0.08333333576910007], 'accuracy': [0.5, 0.5, 0.5, 0.5, 0.5, 0.5, 0.5, 0.5, 0.5, 0.5], 'f1': [0.3333333333333333, 0.3333333333333333, 0.3333333333333333, 0.3333333333333333, 0.3333333333333333, 0.3333333333333333, 0.3333333333333333, 0.3333333333333333, 0.3333333333333333, 0.3333333333333333], 'conf_matrix': [[[0, 156], [0, 156]], [[0, 156], [0, 156]], [[0, 156], [0, 156]], [[0, 156], [0, 156]], [[0, 156], [0, 156]], [[0, 156], [0, 156]], [[0, 156], [0, 156]], [[0, 156], [0, 156]], [[0, 156], [0, 156]], [[0, 156], [0, 156]]]}, 'test_metrics': {'loss': 0.08421748347820775, 'accuracy': 0.5, 'f1': 0.3333333333333333, 'conf_matrix': [[0, 155], [0, 155]]}, 'timing': {'start_loop': '2024-10-06T13:24:48.188366', 'end_loop': '2024-10-06T13:37:04.355868', 'end_test': '2024-10-06T13:37:23.231653', 'loop_time': -736.167502, 'test_time': -18.875785}}, {'end_time': None, 'search_index': 1026, 'epochs': 10, 'dataset_params': {'ts_window': 6, 'ts_overlap': 'start', 'text_window': 3, 'text_selection_method': ['TFIDF', 5], 'data_source': {'name': 'stock_emotion', 'text_path': './data/stock_emotions/tweet/processed_stockemo.csv', 'ts_path': './data/stock_emotions/price/', 'ts_date_col': 'Date', 'text_date_col': 'date', 'text_col': 'text', 'train_dates': '01/01/2020 - 03/09/2020', 'test_dates': '04/09/2020 - 31/12/2020'}, 'negatives_creation': ['sentence_transformer_dissimilarity', 'mean'], 'random_state': 44}, 'model_params': {'ts_encoder': {'name': 'TimeSeriesTransformerModel', 'ts_window': 6, 'context_length': 1, 'prediction_length': 0, 'lags_sequence': [1, 2, 3, 4, 5], 'num_features': 3}, 'text_encoder': {'name': 'bert-base-uncased'}, 'text_encoder_pretrained': True, 'text_aggregation_method': 'mean', 'projection_dim': 500, 'learning_rate': 1e-05, 'optimizer': 'adam', 'criterion': 'CosineEmbeddingLoss', 'num_epochs': 10, 'batch_size': 6, 'num_workers': 4}, 'df_len': 720, 'pair_count': [[1, 360], [-1, 360]], 'train_metrics': {'loss': [0.09021106898370716, 0.08865874674585131, 0.087708262892233, 0.08713646524896225, 0.08671456809259123, 0.08639991430358754, 0.0861418871829907, 0.08592942243234979, 0.0857503755018115, 0.08559234001570278], 'accuracy': [0.5, 0.5, 0.5, 0.5, 0.5, 0.5, 0.5, 0.5, 0.5, 0.5], 'f1': [0.3333333333333333, 0.3333333333333333, 0.3333333333333333, 0.3333333333333333, 0.3333333333333333, 0.3333333333333333, 0.3333333333333333, 0.3333333333333333, 0.3333333333333333, 0.3333333333333333], 'conf_matrix': [[[0, 360], [0, 360]], [[0, 360], [0, 360]], [[0, 360], [0, 360]], [[0, 360], [0, 360]], [[0, 360], [0, 360]], [[0, 360], [0, 360]], [[0, 360], [0, 360]], [[0, 360], [0, 360]], [[0, 360], [0, 360]], [[0, 360], [0, 360]]]}, 'val_metrics': {'loss': [0.0833333358168602, 0.08333333514821835, 0.08333333591238046, 0.08333333495717782, 0.0833333356735798, 0.08333333677206284, 0.08333333524373862, 0.08333333495717782, 0.08333333605566086, 0.0833333358168602], 'accuracy': [0.5, 0.5, 0.5, 0.5, 0.5, 0.5, 0.5, 0.5, 0.5, 0.5], 'f1': [0.3333333333333333, 0.3333333333333333, 0.3333333333333333, 0.3333333333333333, 0.3333333333333333, 0.3333333333333333, 0.3333333333333333, 0.3333333333333333, 0.3333333333333333, 0.3333333333333333], 'conf_matrix': [[[0, 156], [0, 156]], [[0, 156], [0, 156]], [[0, 156], [0, 156]], [[0, 156], [0, 156]], [[0, 156], [0, 156]], [[0, 156], [0, 156]], [[0, 156], [0, 156]], [[0, 156], [0, 156]], [[0, 156], [0, 156]], [[0, 156], [0, 156]]]}, 'test_metrics': {'loss': 0.08421545413232619, 'accuracy': 0.5, 'f1': 0.3333333333333333, 'conf_matrix': [[0, 155], [0, 155]]}, 'timing': {'start_loop': '2024-10-06T13:38:16.940036', 'end_loop': '2024-10-06T13:50:36.106004', 'end_test': '2024-10-06T13:50:55.453550', 'loop_time': -739.165968, 'test_time': -19.347546}}, {'end_time': None, 'search_index': 1042, 'epochs': 10, 'dataset_params': {'ts_window': 6, 'ts_overlap': 'start', 'text_window': 3, 'text_selection_method': ['TFIDF', 5], 'data_source': {'name': 'stock_net', 'text_path': './data/stocknet/tweet/organised_tweet.csv', 'ts_path': './data/stocknet/price/raw/', 'ts_date_col': 'Date', 'text_date_col': 'created_at', 'text_col': 'text', 'train_dates': '01/01/2014 - 01/08/2015', 'test_dates': '01/08/2015 - 01/01/2016'}, 'negatives_creation': ['sentence_transformer_dissimilarity', 'mean'], 'random_state': 42}, 'model_params': {'ts_encoder': {'name': 'TimeSeriesTransformerModel', 'ts_window': 6, 'context_length': 1, 'prediction_length': 0, 'lags_sequence': [1, 2, 3, 4, 5], 'num_features': 3}, 'text_encoder': {'name': 'bert-base-uncased'}, 'text_encoder_pretrained': True, 'text_aggregation_method': 'mean', 'projection_dim': 500, 'learning_rate': 1e-05, 'optimizer': 'adam', 'criterion': 'CosineEmbeddingLoss', 'num_epochs': 10, 'batch_size': 6, 'num_workers': 4}, 'df_len': 2206, 'pair_count': [[1, 1103], [-1, 1103]], 'train_metrics': {'loss': [0.019560326485204782, 0.015428718526493876, 0.013606862131259653, 0.012784883137606591, 0.009638928645311544, 0.019524493361531958, 0.019943954285440234, 0.017145700348289522, 0.03770624118935611, 0.00931930918025287], 'accuracy': [0.9537624660018132, 0.9315503173164098, 0.9397098821396193, 0.9410698096101541, 0.956029011786038, 0.9097914777878513, 0.8839528558476881, 0.9179510426110608, 0.8200362647325476, 0.9505893019038985], 'f1': [0.9537045876512648, 0.9312774712380458, 0.9395930885292586, 0.9410170132947218, 0.9559953647293744, 0.9094915022904735, 0.8831398549015226, 0.9177502366334298, 0.8189738263183732, 0.9505158347723529], 'conf_matrix': [[[1013, 90], [12, 1091]], [[958, 145], [6, 1097]], [[988, 115], [18, 1085]], [[1005, 98], [32, 1071]], [[1024, 79], [18, 1085]], [[940, 163], [36, 1067]], [[883, 220], [36, 1067]], [[958, 145], [36, 1067]], [[820, 283], [114, 989]], [[1006, 97], [12, 1091]]]}, 'val_metrics': {'loss': [0.10036680131935471, 0.10859375175371067, 0.1145935020399438, 0.1078499654301237, 0.10909161326687258, 0.12439503047332867, 0.10986746901424353, 0.12391888482045611, 0.09735679572670038, 0.10502724855169923], 'accuracy': [0.5, 0.5, 0.5, 0.5, 0.5, 0.5, 0.5, 0.5, 0.5, 0.5], 'f1': [0.3333333333333333, 0.3333333333333333, 0.3333333333333333, 0.3333333333333333, 0.3333333333333333, 0.3333333333333333, 0.3333333333333333, 0.3333333333333333, 0.3333333333333333, 0.3333333333333333], 'conf_matrix': [[[277, 0], [277, 0]], [[277, 0], [277, 0]], [[277, 0], [277, 0]], [[277, 0], [277, 0]], [[277, 0], [277, 0]], [[277, 0], [277, 0]], [[277, 0], [277, 0]], [[277, 0], [277, 0]], [[277, 0], [277, 0]], [[277, 0], [277, 0]]]}, 'test_metrics': {'loss': 0.10439868987242946, 'accuracy': 0.5, 'f1': 0.3333333333333333, 'conf_matrix': [[281, 0], [281, 0]]}, 'timing': {'start_loop': '2024-10-06T19:18:35.485153', 'end_loop': '2024-10-06T19:48:05.003156', 'end_test': '2024-10-06T19:48:31.878703', 'loop_time': -1769.518003, 'test_time': -26.875547}}, {'end_time': None, 'search_index': 1043, 'epochs': 10, 'dataset_params': {'ts_window': 6, 'ts_overlap': 'start', 'text_window': 3, 'text_selection_method': ['TFIDF', 5], 'data_source': {'name': 'stock_net', 'text_path': './data/stocknet/tweet/organised_tweet.csv', 'ts_path': './data/stocknet/price/raw/', 'ts_date_col': 'Date', 'text_date_col': 'created_at', 'text_col': 'text', 'train_dates': '01/01/2014 - 01/08/2015', 'test_dates': '01/08/2015 - 01/01/2016'}, 'negatives_creation': ['sentence_transformer_dissimilarity', 'mean'], 'random_state': 43}, 'model_params': {'ts_encoder': {'name': 'TimeSeriesTransformerModel', 'ts_window': 6, 'context_length': 1, 'prediction_length': 0, 'lags_sequence': [1, 2, 3, 4, 5], 'num_features': 3}, 'text_encoder': {'name': 'bert-base-uncased'}, 'text_encoder_pretrained': True, 'text_aggregation_method': 'mean', 'projection_dim': 500, 'learning_rate': 1e-05, 'optimizer': 'adam', 'criterion': 'CosineEmbeddingLoss', 'num_epochs': 10, 'batch_size': 6, 'num_workers': 4}, 'df_len': 2206, 'pair_count': [[1, 1103], [-1, 1103]], 'train_metrics': {'loss': [0.017827977281965564, 0.016327062369250807, 0.03225627167134335, 0.024189181158070876, 0.022951276681587734, 0.03215352125638012, 0.027981351456053533, 0.04933975705182887, 0.03058712097752262, 0.019109869588179985], 'accuracy': [0.9519492293744334, 0.928377153218495, 0.85675430643699, 0.8794197642792384, 0.8612873980054397, 0.842701722574796, 0.8390752493200363, 0.7375339981867634, 0.8254759746146872, 0.8952855847688124], 'f1': [0.9518380293293788, 0.9281986248994714, 0.8561066373387564, 0.8782306047506159, 0.8605164953693946, 0.841488432732052, 0.8366094686099194, 0.7258722186130392, 0.8216039242053508, 0.8949799836159328], 'conf_matrix': [[[997, 106], [0, 1103]], [[969, 134], [24, 1079]], [[871, 232], [84, 1019]], [[861, 242], [24, 1079]], [[868, 235], [71, 1032]], [[833, 270], [77, 1026]], [[790, 313], [42, 1061]], [[586, 517], [62, 1041]], [[748, 355], [30, 1073]], [[928, 175], [56, 1047]]]}, 'val_metrics': {'loss': [0.10552877870922915, 0.11950386447381457, 0.1150274796122248, 0.11915155675006688, 0.10377376666460657, 0.11755377987554358, 0.1095442088448614, 0.10893878098644505, 0.1087130457162857, 0.10055314542369291], 'accuracy': [0.5, 0.5, 0.5, 0.5, 0.5, 0.5, 0.5, 0.5, 0.5, 0.5], 'f1': [0.3333333333333333, 0.3333333333333333, 0.3333333333333333, 0.3333333333333333, 0.3333333333333333, 0.3333333333333333, 0.3333333333333333, 0.3333333333333333, 0.3333333333333333, 0.3333333333333333], 'conf_matrix': [[[277, 0], [277, 0]], [[277, 0], [277, 0]], [[277, 0], [277, 0]], [[277, 0], [277, 0]], [[277, 0], [277, 0]], [[277, 0], [277, 0]], [[277, 0], [277, 0]], [[277, 0], [277, 0]], [[277, 0], [277, 0]], [[277, 0], [277, 0]]]}, 'test_metrics': {'loss': 0.10139927066517894, 'accuracy': 0.5, 'f1': 0.3333333333333333, 'conf_matrix': [[281, 0], [281, 0]]}, 'timing': {'start_loop': '2024-10-06T19:56:16.505470', 'end_loop': '2024-10-06T20:25:37.039829', 'end_test': '2024-10-06T20:26:03.268011', 'loop_time': -1760.534359, 'test_time': -26.228182}}, {'end_time': None, 'search_index': 1143, 'epochs': 10, 'dataset_params': {'ts_window': 6, 'ts_overlap': 'start', 'text_window': 3, 'text_selection_method': ['TFIDF', 5], 'data_source': {'name': 'stock_net', 'text_path': './data/stocknet/tweet/organised_tweet.csv', 'ts_path': './data/stocknet/price/raw/', 'ts_date_col': 'Date', 'text_date_col': 'created_at', 'text_col': 'text', 'train_dates': '01/01/2014 - 01/08/2015', 'test_dates': '01/08/2015 - 01/01/2016'}, 'negatives_creation': ['sentence_transformer_dissimilarity', 'mean'], 'random_state': 44}, 'model_params': {'ts_encoder': {'name': 'TimeSeriesTransformerModel', 'ts_window': 6, 'context_length': 1, 'prediction_length': 0, 'lags_sequence': [1, 2, 3, 4, 5], 'num_features': 3}, 'text_encoder': {'name': 'bert-base-uncased'}, 'text_encoder_pretrained': True, 'text_aggregation_method': 'mean', 'projection_dim': 500, 'learning_rate': 1e-05, 'optimizer': 'adam', 'criterion': 'CosineEmbeddingLoss', 'num_epochs': 10, 'batch_size': 6, 'num_workers': 4}, 'df_len': 2206, 'pair_count': [[1, 1103], [-1, 1103]], 'train_metrics': {'loss': [0.04807921160512341, 0.03342386045515772, 0.04577665290795689, 0.06102183464186727, 0.07671567017878705, 0.08223901849986473, 0.09953161554304665, 0.09201944206528034, 0.08963788330473904, 0.08846339892768254], 'accuracy': [0.8200362647325476, 0.7914777878513146, 0.7044424297370807, 0.6201269265639165, 0.5543970988213962, 0.4582955575702629, 0.4673617407071623, 0.5, 0.5, 0.5], 'f1': [0.8143218505779611, 0.7868804946381992, 0.6888386985115957, 0.5799825143048255, 0.4839626092073911, 0.31570478251535994, 0.31850478838430646, 0.3333333333333333, 0.3333333333333333, 0.3333333333333333], 'conf_matrix': [[[711, 392], [5, 1098]], [[711, 392], [68, 1035]], [[530, 573], [79, 1024]], [[343, 760], [78, 1025]], [[204, 899], [84, 1019]], [[2, 1101], [94, 1009]], [[0, 1103], [72, 1031]], [[0, 1103], [0, 1103]], [[0, 1103], [0, 1103]], [[0, 1103], [0, 1103]]]}, 'val_metrics': {'loss': [0.10329938932769135, 0.10118317493785589, 0.09910881045923337, 0.09800140616157856, 0.09886322603544173, 0.0836367895456858, 0.08373809452521672, 0.08389206553409245, 0.08398772663157769, 0.08406081779554002], 'accuracy': [0.5, 0.5, 0.5, 0.5, 0.5, 0.5, 0.5, 0.5, 0.5, 0.5], 'f1': [0.3333333333333333, 0.3333333333333333, 0.3333333333333333, 0.3333333333333333, 0.3333333333333333, 0.3333333333333333, 0.3333333333333333, 0.3333333333333333, 0.3333333333333333, 0.3333333333333333], 'conf_matrix': [[[277, 0], [277, 0]], [[277, 0], [277, 0]], [[277, 0], [277, 0]], [[277, 0], [277, 0]], [[277, 0], [277, 0]], [[277, 0], [277, 0]], [[0, 277], [0, 277]], [[0, 277], [0, 277]], [[0, 277], [0, 277]], [[0, 277], [0, 277]]]}, 'test_metrics': {'loss': 0.08369190137157237, 'accuracy': 0.5, 'f1': 0.3333333333333333, 'conf_matrix': [[0, 281], [0, 281]]}, 'timing': {'start_loop': '2024-10-08T18:55:48.010655', 'end_loop': '2024-10-08T19:24:59.800535', 'end_test': '2024-10-08T19:25:26.307524', 'loop_time': -1751.78988, 'test_time': -26.506989}}]\n"
     ]
    }
   ],
   "source": [
    "import json\n",
    "import itertools\n",
    "import pdb\n",
    "\n",
    "def compare_dicts(dict1, dict2):\n",
    "    for key in dict1.keys():\n",
    "        if key == 'num_workers': #num workers doesn't matter\n",
    "            continue\n",
    "        else:\n",
    "            if key != 'text_selection_method' and key != 'negatives_creation' and key != 'data_source' and key != 'ts_encoder':\n",
    "                #These have particular serialise/deseerialise issues where it's originally a tuple and saved as a list \n",
    "                if dict1[key] != dict2[key]:\n",
    "                    return False\n",
    "            elif key == 'data_source' or key == 'ts_encoder':\n",
    "                if dict1[key]['name'] != dict2[key]['name']:\n",
    "                    return False\n",
    "            else:\n",
    "                if dict1[key][0] != dict2[key][0] or dict1[key][1] != dict2[key][1]:\n",
    "                    return False\n",
    "    return True\n",
    "    \n",
    "def check_args_not_used(data_parameters, model_parameters, output_file):\n",
    "    with open(output_file, 'r') as file:\n",
    "        data = json.load(file)\n",
    "    for i in data:\n",
    "        seen_dataset_params = i['dataset_params']\n",
    "        seen_model_params = i['model_params']\n",
    "        if compare_dicts(seen_dataset_params, data_parameters) and compare_dicts(seen_model_params, model_parameters):\n",
    "            #return False if we have seen the args\n",
    "            return False, i\n",
    "    return True, None\n",
    "\n",
    "def find_matching_combinations(json_file_path, model_param_grid, dataset_param_grid):    \n",
    "    # Generate all combinations from model_param_grid and dataset_param_grid\n",
    "    model_combinations = list(itertools.product(*model_param_grid.values()))\n",
    "    dataset_combinations = list(itertools.product(*dataset_param_grid.values()))\n",
    "    \n",
    "    # Recreate dictionaries from combinations\n",
    "    model_combinations_dicts = [dict(zip(model_param_grid.keys(), comb)) for comb in model_combinations]\n",
    "    dataset_combinations_dicts = [dict(zip(dataset_param_grid.keys(), comb)) for comb in dataset_combinations]\n",
    "    combined_combinations = [\n",
    "        {\"model_params\": model_comb, \"dataset_params\": dataset_comb}\n",
    "        for model_comb in model_combinations_dicts\n",
    "        for dataset_comb in dataset_combinations_dicts\n",
    "    ]\n",
    "    # Store results\n",
    "    matching_entries = []\n",
    "    for combos in combined_combinations:\n",
    "        model_param = combos['model_params']\n",
    "        dataset_param = combos['dataset_params']\n",
    "\n",
    "        args_seen, value = check_args_not_used(data_parameters=dataset_param, model_parameters=model_param, output_file=json_file_path)\n",
    "        if not args_seen:\n",
    "            #False if we have seen this set\n",
    "            matching_entries.append(value)\n",
    "            \n",
    "\n",
    "    return matching_entries\n",
    "model_param_grid = {\n",
    "            \"ts_encoder\": [{\"name\": 'TimeSeriesTransformerModel'}],#{\"name\": \"InformerModel\"}, {\"name\": 'AutoFormerModel'}],\n",
    "            \"text_encoder\": [{\"name\": 'bert-base-uncased'}],#, {\"name\": 'bert-base-cased'}],\n",
    "            \"text_encoder_pretrained\": [True],                                                                       \n",
    "            \"text_aggregation_method\": [\"mean\"],                                                    \n",
    "            \"projection_dim\": [400, 500, 600],                                                                        \n",
    "            \"learning_rate\": [1e-5],                                                                             \n",
    "            \"optimizer\": ['adam'],                                                                                          \n",
    "            \"criterion\": ['CosineEmbeddingLoss'],\n",
    "            \"num_epochs\": [10],                                                                                             \n",
    "            \"batch_size\": [6],                                                                                             \n",
    "            \"num_workers\": [4],  \n",
    "        }\n",
    "\n",
    "dataset_param_grid = {                                                                            \n",
    "    \"ts_window\": [6],#4, 6 & 7 had a random error out     3, 4, 5, 6, 7, 10                                                                    \n",
    "    \"ts_overlap\": ['start'],                                                                    \n",
    "    \"text_window\": [3],             #3, 4, 5, 6, 7                                           \n",
    "    'text_selection_method': [('TFIDF', 5)],\n",
    "    \"data_source\": [{\n",
    "        \"name\": \"EDT\",\n",
    "        \"text_path\": \"./data/EDT/evaluate_news.json\",\n",
    "        \"ts_path\": \"./data/stock_emotions/price/\",\n",
    "        \"ts_date_col\": 'Date',\n",
    "        'text_date_col': 'date',\n",
    "        'text_col': 'text',\n",
    "        'train_dates': '01/01/2020 - 03/09/2020',\n",
    "        'test_dates': '04/09/2020 - 31/12/2020'\n",
    "    },{\n",
    "        \"name\": \"stock_emotion\",\n",
    "        \"text_path\": \"./data/stock_emotions/tweet/processed_stockemo.csv\",\n",
    "        \"ts_path\": \"./data/stock_emotions/price/\",\n",
    "        \"ts_date_col\": 'Date',\n",
    "        'text_date_col': 'date',\n",
    "        'text_col': 'text',\n",
    "        'train_dates': '01/01/2020 - 03/09/2020',\n",
    "        'test_dates': '04/09/2020 - 31/12/2020'\n",
    "    },  {\n",
    "        \"name\": \"stock_net\",\n",
    "        \"text_path\": \"./data/stocknet/tweet/organised_tweet.csv\",\n",
    "        \"ts_path\": \"./data/stocknet/price/raw/\",\n",
    "        \"ts_date_col\": 'Date',\n",
    "        'text_date_col': 'created_at',\n",
    "        'text_col': 'text',\n",
    "        'train_dates': '01/01/2014 - 01/08/2015',\n",
    "        'test_dates': '01/08/2015 - 01/01/2016'\n",
    "    },],                                                            \n",
    "    \"negatives_creation\": [(\"sentence_transformer_dissimilarity\", \"mean\")],# (\"sentence_transformer_dissimilarity\", \"max\"), (\"sentence_transformer_dissimilarity\", \"min\"), (\"naive\", 30), (\"naive\", 45), (\"naive\", 60)],                          \n",
    "    \"random_state\": [42, 43, 44],\n",
    "}\n",
    "\n",
    "matching_results = find_matching_combinations('./output_frand_normalized_plotting.json', model_param_grid, dataset_param_grid)\n",
    "print(matching_results)"
   ]
  },
  {
   "cell_type": "code",
   "execution_count": 5,
   "metadata": {},
   "outputs": [
    {
     "data": {
      "text/plain": [
       "9"
      ]
     },
     "execution_count": 5,
     "metadata": {},
     "output_type": "execute_result"
    }
   ],
   "source": [
    "len(matching_results)"
   ]
  },
  {
   "cell_type": "code",
   "execution_count": 3,
   "metadata": {},
   "outputs": [],
   "source": [
    "import json\n",
    "\n",
    "def save_to_json(data, file_path):\n",
    "    # Use json.dump to save data to a JSON file\n",
    "    with open(file_path, 'w') as json_file:\n",
    "        json.dump(data, json_file, indent=4)\n",
    "\n",
    "\n",
    "save_to_json(matching_results, './normalized/windows.json')"
   ]
  },
  {
   "cell_type": "code",
   "execution_count": null,
   "metadata": {},
   "outputs": [],
   "source": []
  },
  {
   "cell_type": "code",
   "execution_count": null,
   "metadata": {},
   "outputs": [],
   "source": []
  }
 ],
 "metadata": {
  "kernelspec": {
   "display_name": "Python 3",
   "language": "python",
   "name": "python3"
  },
  "language_info": {
   "codemirror_mode": {
    "name": "ipython",
    "version": 3
   },
   "file_extension": ".py",
   "mimetype": "text/x-python",
   "name": "python",
   "nbconvert_exporter": "python",
   "pygments_lexer": "ipython3",
   "version": "3.12.7"
  }
 },
 "nbformat": 4,
 "nbformat_minor": 2
}
